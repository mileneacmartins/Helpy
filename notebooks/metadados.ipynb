{
 "cells": [
  {
   "cell_type": "markdown",
   "metadata": {},
   "source": [
    "## Importando bibliotecas necessárias"
   ]
  },
  {
   "cell_type": "code",
   "execution_count": 1,
   "metadata": {},
   "outputs": [],
   "source": [
    "import time\n",
    "import os\n",
    "from pathlib import Path\n",
    "import pandas as pd\n",
    "from langchain.text_splitter import CharacterTextSplitter\n",
    "from langchain.schema import Document\n",
    "from langchain.chat_models import AzureChatOpenAI\n",
    "from langchain.vectorstores import Chroma\n",
    "from langchain.embeddings import OpenAIEmbeddings\n",
    "from dotenv import load_dotenv\n"
   ]
  },
  {
   "cell_type": "markdown",
   "metadata": {},
   "source": [
    "## Variáveis de ambiente"
   ]
  },
  {
   "cell_type": "code",
   "execution_count": 2,
   "metadata": {},
   "outputs": [
    {
     "name": "stderr",
     "output_type": "stream",
     "text": [
      "c:\\Users\\BlueShift\\Documents\\Projects\\helpy_bot\\mybot\\Lib\\site-packages\\langchain_core\\_api\\deprecation.py:117: LangChainDeprecationWarning: The class `langchain_community.chat_models.azure_openai.AzureChatOpenAI` was deprecated in langchain-community 0.0.10 and will be removed in 0.2.0. An updated version of the class exists in the langchain-openai package and should be used instead. To use it run `pip install -U langchain-openai` and import as `from langchain_openai import AzureChatOpenAI`.\n",
      "  warn_deprecated(\n",
      "c:\\Users\\BlueShift\\Documents\\Projects\\helpy_bot\\mybot\\Lib\\site-packages\\langchain_community\\chat_models\\azure_openai.py:167: UserWarning: As of openai>=1.0.0, Azure endpoints should be specified via the `azure_endpoint` param not `openai_api_base` (or alias `base_url`). Updating `openai_api_base` from https://blue-openai-academy.openai.azure.com/ to https://blue-openai-academy.openai.azure.com/openai.\n",
      "  warnings.warn(\n",
      "c:\\Users\\BlueShift\\Documents\\Projects\\helpy_bot\\mybot\\Lib\\site-packages\\langchain_community\\chat_models\\azure_openai.py:174: UserWarning: As of openai>=1.0.0, if `deployment_name` (or alias `azure_deployment`) is specified then `openai_api_base` (or alias `base_url`) should not be. Instead use `deployment_name` (or alias `azure_deployment`) and `azure_endpoint`.\n",
      "  warnings.warn(\n",
      "c:\\Users\\BlueShift\\Documents\\Projects\\helpy_bot\\mybot\\Lib\\site-packages\\langchain_community\\chat_models\\azure_openai.py:182: UserWarning: As of openai>=1.0.0, if `openai_api_base` (or alias `base_url`) is specified it is expected to be of the form https://example-resource.azure.openai.com/openai/deployments/example-deployment. Updating https://blue-openai-academy.openai.azure.com/ to https://blue-openai-academy.openai.azure.com/openai.\n",
      "  warnings.warn(\n",
      "c:\\Users\\BlueShift\\Documents\\Projects\\helpy_bot\\mybot\\Lib\\site-packages\\langchain_core\\_api\\deprecation.py:117: LangChainDeprecationWarning: The class `langchain_community.embeddings.openai.OpenAIEmbeddings` was deprecated in langchain-community 0.0.9 and will be removed in 0.2.0. An updated version of the class exists in the langchain-openai package and should be used instead. To use it run `pip install -U langchain-openai` and import as `from langchain_openai import OpenAIEmbeddings`.\n",
      "  warn_deprecated(\n",
      "c:\\Users\\BlueShift\\Documents\\Projects\\helpy_bot\\mybot\\Lib\\site-packages\\langchain_community\\embeddings\\openai.py:336: UserWarning: If you have openai>=1.0.0 installed and are using Azure, please use the `AzureOpenAIEmbeddings` class.\n",
      "  warnings.warn(\n"
     ]
    }
   ],
   "source": [
    "load_dotenv()\n",
    "\n",
    "llm = AzureChatOpenAI(\n",
    "    openai_api_base=os.getenv(\"OPENAI_API_BASE\"),\n",
    "    openai_api_version=os.getenv(\"OPENAI_API_VERSION\"),\n",
    "    openai_api_key=os.getenv(\"OPENAI_API_KEY\"),\n",
    "    openai_api_type=os.getenv(\"OPENAI_API_TYPE\"),\n",
    "    deployment_name=os.getenv(\"DEPLOYMENT_NAME\"),\n",
    "    temperature=0.0,\n",
    ")\n",
    "embeddings = OpenAIEmbeddings(\n",
    "    deployment=os.getenv(\"EMBEDDING_DEPLOYMENT_NAME\"),\n",
    "    chunk_size=15\n",
    ")"
   ]
  },
  {
   "cell_type": "markdown",
   "metadata": {},
   "source": [
    "## Recebendo dataframe"
   ]
  },
  {
   "cell_type": "code",
   "execution_count": 3,
   "metadata": {},
   "outputs": [
    {
     "data": {
      "text/html": [
       "<div>\n",
       "<style scoped>\n",
       "    .dataframe tbody tr th:only-of-type {\n",
       "        vertical-align: middle;\n",
       "    }\n",
       "\n",
       "    .dataframe tbody tr th {\n",
       "        vertical-align: top;\n",
       "    }\n",
       "\n",
       "    .dataframe thead th {\n",
       "        text-align: right;\n",
       "    }\n",
       "</style>\n",
       "<table border=\"1\" class=\"dataframe\">\n",
       "  <thead>\n",
       "    <tr style=\"text-align: right;\">\n",
       "      <th></th>\n",
       "      <th>Capitulo</th>\n",
       "      <th>Seção</th>\n",
       "      <th>Contexto</th>\n",
       "    </tr>\n",
       "  </thead>\n",
       "  <tbody>\n",
       "    <tr>\n",
       "      <th>0</th>\n",
       "      <td>CAPÍTULO 1 COMO APRENDER PYTHON</td>\n",
       "      <td>1.2 SOBRE OS EXERCÍCIOS</td>\n",
       "      <td>1 COMO APRENDER PYTHON \\n1</td>\n",
       "    </tr>\n",
       "    <tr>\n",
       "      <th>1</th>\n",
       "      <td>CAPÍTULO 1 COMO APRENDER PYTHON</td>\n",
       "      <td>1.3 TIRANDO DÚVIDAS E INDO ALÉM</td>\n",
       "      <td>Para tirar dúvidas de exercícios, ou de Python...</td>\n",
       "    </tr>\n",
       "    <tr>\n",
       "      <th>2</th>\n",
       "      <td>CAPÍTULO 2 O QUE É PYTHON</td>\n",
       "      <td>2.2 BREVE HISTÓRIA</td>\n",
       "      <td>Python foi criada em 1990 por Guido Van Rossum...</td>\n",
       "    </tr>\n",
       "    <tr>\n",
       "      <th>3</th>\n",
       "      <td>CAPÍTULO 2 O QUE É PYTHON</td>\n",
       "      <td>2.3 INTERPRETADOR</td>\n",
       "      <td>Você provavelmente já ouviu ou leu em algum lu...</td>\n",
       "    </tr>\n",
       "    <tr>\n",
       "      <th>4</th>\n",
       "      <td>CAPÍTULO 2 O QUE É PYTHON</td>\n",
       "      <td>2.4 QUAL VERSÃO UTILIZAR?</td>\n",
       "      <td>Para quem está começando, a primeira dúvida na...</td>\n",
       "    </tr>\n",
       "  </tbody>\n",
       "</table>\n",
       "</div>"
      ],
      "text/plain": [
       "                          Capitulo                            Seção  \\\n",
       "0  CAPÍTULO 1 COMO APRENDER PYTHON          1.2 SOBRE OS EXERCÍCIOS   \n",
       "1  CAPÍTULO 1 COMO APRENDER PYTHON  1.3 TIRANDO DÚVIDAS E INDO ALÉM   \n",
       "2        CAPÍTULO 2 O QUE É PYTHON               2.2 BREVE HISTÓRIA   \n",
       "3        CAPÍTULO 2 O QUE É PYTHON                2.3 INTERPRETADOR   \n",
       "4        CAPÍTULO 2 O QUE É PYTHON        2.4 QUAL VERSÃO UTILIZAR?   \n",
       "\n",
       "                                            Contexto  \n",
       "0                         1 COMO APRENDER PYTHON \\n1  \n",
       "1  Para tirar dúvidas de exercícios, ou de Python...  \n",
       "2  Python foi criada em 1990 por Guido Van Rossum...  \n",
       "3  Você provavelmente já ouviu ou leu em algum lu...  \n",
       "4  Para quem está começando, a primeira dúvida na...  "
      ]
     },
     "metadata": {},
     "output_type": "display_data"
    }
   ],
   "source": [
    "path_project = Path.cwd().resolve().parents[0]\n",
    "data_dir = path_project / 'doc' / 'dataframe_apostila.csv'\n",
    "apostila_dataframe = pd.read_csv(data_dir)\n",
    "\n",
    "display(apostila_dataframe.head())"
   ]
  },
  {
   "cell_type": "markdown",
   "metadata": {},
   "source": [
    "## Criando metadados"
   ]
  },
  {
   "cell_type": "code",
   "execution_count": 4,
   "metadata": {},
   "outputs": [
    {
     "name": "stdout",
     "output_type": "stream",
     "text": [
      "Número total de documentos: 120\n"
     ]
    }
   ],
   "source": [
    "document_list = []\n",
    "\n",
    "for index, row in apostila_dataframe.iterrows():\n",
    "    paragraph = Document(\n",
    "        page_content=row[\"Contexto\"],\n",
    "        metadata={\n",
    "            \"Chapter\": row[\"Capitulo\"],\n",
    "            \"Session\": row[\"Seção\"],\n",
    "        },\n",
    "    )\n",
    "    document_list.append(paragraph)\n",
    "\n",
    "separator = CharacterTextSplitter(chunk_size=10000, chunk_overlap=2000, separator=\".\")\n",
    "documents = separator.split_documents(document_list)\n",
    "\n",
    "print(\"Número total de documentos:\", len(documents))"
   ]
  },
  {
   "cell_type": "code",
   "execution_count": 5,
   "metadata": {},
   "outputs": [
    {
     "name": "stdout",
     "output_type": "stream",
     "text": [
      "Processando lote de documentos: 0 a 10\n",
      "Erro ao processar o lote de documentos: 'Chroma' object has no attribute 'index_documents'\n",
      "Processando lote de documentos: 10 a 20\n",
      "Erro ao processar o lote de documentos: 'Chroma' object has no attribute 'index_documents'\n",
      "Processando lote de documentos: 20 a 30\n",
      "Erro ao processar o lote de documentos: 'Chroma' object has no attribute 'index_documents'\n",
      "Processando lote de documentos: 30 a 40\n",
      "Erro ao processar o lote de documentos: 'Chroma' object has no attribute 'index_documents'\n",
      "Processando lote de documentos: 40 a 50\n",
      "Erro ao processar o lote de documentos: 'Chroma' object has no attribute 'index_documents'\n",
      "Processando lote de documentos: 50 a 60\n",
      "Erro ao processar o lote de documentos: 'Chroma' object has no attribute 'index_documents'\n",
      "Processando lote de documentos: 60 a 70\n",
      "Erro ao processar o lote de documentos: 'Chroma' object has no attribute 'index_documents'\n"
     ]
    },
    {
     "ename": "KeyboardInterrupt",
     "evalue": "",
     "output_type": "error",
     "traceback": [
      "\u001b[1;31m---------------------------------------------------------------------------\u001b[0m",
      "\u001b[1;31mKeyboardInterrupt\u001b[0m                         Traceback (most recent call last)",
      "Cell \u001b[1;32mIn[5], line 15\u001b[0m\n\u001b[0;32m     13\u001b[0m \u001b[38;5;28;01mexcept\u001b[39;00m \u001b[38;5;167;01mException\u001b[39;00m \u001b[38;5;28;01mas\u001b[39;00m e:\n\u001b[0;32m     14\u001b[0m     \u001b[38;5;28mprint\u001b[39m(\u001b[38;5;124m\"\u001b[39m\u001b[38;5;124mErro ao processar o lote de documentos:\u001b[39m\u001b[38;5;124m\"\u001b[39m, e)\n\u001b[1;32m---> 15\u001b[0m \u001b[43mtime\u001b[49m\u001b[38;5;241;43m.\u001b[39;49m\u001b[43msleep\u001b[49m\u001b[43m(\u001b[49m\u001b[43msleep_time\u001b[49m\u001b[43m)\u001b[49m\n",
      "\u001b[1;31mKeyboardInterrupt\u001b[0m: "
     ]
    }
   ],
   "source": [
    "batch_size = 10\n",
    "sleep_time = 30\n",
    "\n",
    "os.environ[\"CHROMA_DB_PATH\"] = \"C:\\\\Users\\\\BlueShift\\\\Documents\\\\Projects\\\\helpy_bot\\\\db\\\\chroma.sqlite3\"\n",
    "\n",
    "db = Chroma()\n",
    "\n",
    "for i in range(0, len(documents), batch_size):\n",
    "    batch = documents[i:i+batch_size]\n",
    "    print(\"Processando lote de documentos:\", i, \"a\", min(i+batch_size, len(documents)))\n",
    "    try:\n",
    "        db.index_documents(batch, embeddings)\n",
    "    except Exception as e:\n",
    "        print(\"Erro ao processar o lote de documentos:\", e)\n",
    "    time.sleep(sleep_time)"
   ]
  }
 ],
 "metadata": {
  "kernelspec": {
   "display_name": "mybot",
   "language": "python",
   "name": "python3"
  },
  "language_info": {
   "codemirror_mode": {
    "name": "ipython",
    "version": 3
   },
   "file_extension": ".py",
   "mimetype": "text/x-python",
   "name": "python",
   "nbconvert_exporter": "python",
   "pygments_lexer": "ipython3",
   "version": "3.12.2"
  }
 },
 "nbformat": 4,
 "nbformat_minor": 2
}
