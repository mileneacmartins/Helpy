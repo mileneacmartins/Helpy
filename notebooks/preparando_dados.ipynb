{
 "cells": [
  {
   "cell_type": "markdown",
   "metadata": {},
   "source": [
    "## Importando bibliotecas necessárias"
   ]
  },
  {
   "cell_type": "code",
   "execution_count": 3,
   "metadata": {},
   "outputs": [],
   "source": [
    "import os\n",
    "from pathlib import Path\n",
    "import pandas as pd\n",
    "import uuid\n",
    "from chromadb import PersistentClient\n",
    "from chromadb.utils.embedding_functions import OpenAIEmbeddingFunction\n",
    "from langchain.vectorstores import Chroma\n",
    "from dotenv import load_dotenv\n",
    "import chromadb\n"
   ]
  },
  {
   "cell_type": "code",
   "execution_count": 4,
   "metadata": {},
   "outputs": [],
   "source": [
    "load_dotenv()\n",
    "\n",
    "embedding_function = OpenAIEmbeddingFunction(\n",
    "    api_key=os.getenv(\"OPENAI_API_KEY\"),\n",
    "    api_base=os.getenv(\"OPENAI_API_BASE\"),\n",
    "    api_type=\"azure\",\n",
    "    api_version=os.getenv(\"OPENAI_API_VERSION\"),\n",
    "    model_name=os.environ[\"EMBEDDING_DEPLOYMENT_NAME\"]\n",
    ")"
   ]
  },
  {
   "cell_type": "code",
   "execution_count": 5,
   "metadata": {},
   "outputs": [
    {
     "data": {
      "text/html": [
       "<div>\n",
       "<style scoped>\n",
       "    .dataframe tbody tr th:only-of-type {\n",
       "        vertical-align: middle;\n",
       "    }\n",
       "\n",
       "    .dataframe tbody tr th {\n",
       "        vertical-align: top;\n",
       "    }\n",
       "\n",
       "    .dataframe thead th {\n",
       "        text-align: right;\n",
       "    }\n",
       "</style>\n",
       "<table border=\"1\" class=\"dataframe\">\n",
       "  <thead>\n",
       "    <tr style=\"text-align: right;\">\n",
       "      <th></th>\n",
       "      <th>Capitulo</th>\n",
       "      <th>Seção</th>\n",
       "      <th>Contexto</th>\n",
       "    </tr>\n",
       "  </thead>\n",
       "  <tbody>\n",
       "    <tr>\n",
       "      <th>0</th>\n",
       "      <td>CAPÍTULO 1 COMO APRENDER PYTHON</td>\n",
       "      <td>1.2 SOBRE OS EXERCÍCIOS</td>\n",
       "      <td>1 COMO APRENDER PYTHON \\n1</td>\n",
       "    </tr>\n",
       "    <tr>\n",
       "      <th>1</th>\n",
       "      <td>CAPÍTULO 1 COMO APRENDER PYTHON</td>\n",
       "      <td>1.3 TIRANDO DÚVIDAS E INDO ALÉM</td>\n",
       "      <td>Para tirar dúvidas de exercícios, ou de Python...</td>\n",
       "    </tr>\n",
       "    <tr>\n",
       "      <th>2</th>\n",
       "      <td>CAPÍTULO 2 O QUE É PYTHON</td>\n",
       "      <td>2.2 BREVE HISTÓRIA</td>\n",
       "      <td>Python foi criada em 1990 por Guido Van Rossum...</td>\n",
       "    </tr>\n",
       "    <tr>\n",
       "      <th>3</th>\n",
       "      <td>CAPÍTULO 2 O QUE É PYTHON</td>\n",
       "      <td>2.3 INTERPRETADOR</td>\n",
       "      <td>Você provavelmente já ouviu ou leu em algum lu...</td>\n",
       "    </tr>\n",
       "    <tr>\n",
       "      <th>4</th>\n",
       "      <td>CAPÍTULO 2 O QUE É PYTHON</td>\n",
       "      <td>2.4 QUAL VERSÃO UTILIZAR?</td>\n",
       "      <td>Para quem está começando, a primeira dúvida na...</td>\n",
       "    </tr>\n",
       "  </tbody>\n",
       "</table>\n",
       "</div>"
      ],
      "text/plain": [
       "                          Capitulo                            Seção  \\\n",
       "0  CAPÍTULO 1 COMO APRENDER PYTHON          1.2 SOBRE OS EXERCÍCIOS   \n",
       "1  CAPÍTULO 1 COMO APRENDER PYTHON  1.3 TIRANDO DÚVIDAS E INDO ALÉM   \n",
       "2        CAPÍTULO 2 O QUE É PYTHON               2.2 BREVE HISTÓRIA   \n",
       "3        CAPÍTULO 2 O QUE É PYTHON                2.3 INTERPRETADOR   \n",
       "4        CAPÍTULO 2 O QUE É PYTHON        2.4 QUAL VERSÃO UTILIZAR?   \n",
       "\n",
       "                                            Contexto  \n",
       "0                         1 COMO APRENDER PYTHON \\n1  \n",
       "1  Para tirar dúvidas de exercícios, ou de Python...  \n",
       "2  Python foi criada em 1990 por Guido Van Rossum...  \n",
       "3  Você provavelmente já ouviu ou leu em algum lu...  \n",
       "4  Para quem está começando, a primeira dúvida na...  "
      ]
     },
     "metadata": {},
     "output_type": "display_data"
    }
   ],
   "source": [
    "path_project = Path.cwd().resolve().parents[0]\n",
    "data_dir = path_project / 'doc' / 'dataframe_apostila.csv'\n",
    "apostila_dataframe = pd.read_csv(data_dir)\n",
    "\n",
    "display(apostila_dataframe.head())"
   ]
  },
  {
   "cell_type": "code",
   "execution_count": 6,
   "metadata": {},
   "outputs": [],
   "source": [
    "def prepare_data(df: pd.DataFrame) -> tuple[list, list, list]:\n",
    "    \"\"\"\n",
    "    Prepare the lists of ids, documents and metadatas for all\n",
    "    items in a given dataframe.\n",
    "    \n",
    "    Parameters\n",
    "    ----------\n",
    "    df : pd.DataFrame\n",
    "        Review data for the books\n",
    "        \n",
    "    Returns\n",
    "    -------\n",
    "    tuple[list, list, list]\n",
    "        \n",
    "    \"\"\"\n",
    "\n",
    "    documents = []\n",
    "    metadatas = []\n",
    "    ids = []\n",
    "\n",
    "    for ind, book in enumerate(df['Seção']):\n",
    "        temp = df.iloc[ind]\n",
    "        metadata = {\n",
    "            'Session': temp['Seção'],\n",
    "            'Chapter': temp['Capitulo'],\n",
    "        }\n",
    "\n",
    "        documents.append(str(temp['Contexto']))\n",
    "        metadatas.append(metadata)\n",
    "        ids.append(uuid.uuid4().hex)\n",
    "        \n",
    "    return ids, documents, metadatas"
   ]
  },
  {
   "cell_type": "code",
   "execution_count": 7,
   "metadata": {},
   "outputs": [],
   "source": [
    "ids, documents, metadatas = prepare_data(df=apostila_dataframe)"
   ]
  },
  {
   "cell_type": "code",
   "execution_count": 8,
   "metadata": {},
   "outputs": [
    {
     "data": {
      "text/plain": [
       "['9bab639c5d9c4ce997fb25098f8e1eda',\n",
       " 'e668aeb5ac134aa69dfc6b405da990fd',\n",
       " '5ebb7bd385d941bdb1bc182822bf2343',\n",
       " '749b69c766204978b35656795e05af01',\n",
       " '09a22ac9aa1948e9aa2095b88798c811']"
      ]
     },
     "execution_count": 8,
     "metadata": {},
     "output_type": "execute_result"
    }
   ],
   "source": [
    "ids[:5]"
   ]
  },
  {
   "cell_type": "code",
   "execution_count": 9,
   "metadata": {},
   "outputs": [
    {
     "data": {
      "text/plain": [
       "[{'Session': '1.2 SOBRE OS EXERCÍCIOS',\n",
       "  'Chapter': 'CAPÍTULO 1 COMO APRENDER PYTHON'},\n",
       " {'Session': '1.3 TIRANDO DÚVIDAS E INDO ALÉM',\n",
       "  'Chapter': 'CAPÍTULO 1 COMO APRENDER PYTHON'},\n",
       " {'Session': '2.2 BREVE HISTÓRIA', 'Chapter': 'CAPÍTULO 2 O QUE É PYTHON'},\n",
       " {'Session': '2.3 INTERPRETADOR', 'Chapter': 'CAPÍTULO 2 O QUE É PYTHON'},\n",
       " {'Session': '2.4 QUAL VERSÃO UTILIZAR?',\n",
       "  'Chapter': 'CAPÍTULO 2 O QUE É PYTHON'},\n",
       " {'Session': '2.5 DOWNLOAD', 'Chapter': 'CAPÍTULO 2 O QUE É PYTHON'},\n",
       " {'Session': '2.6 CPYTHON, JYTHON, IRONPYTHON?',\n",
       "  'Chapter': 'CAPÍTULO 2 O QUE É PYTHON'},\n",
       " {'Session': '2.5 DOWNLOAD', 'Chapter': 'CAPÍTULO 2 O QUE É PYTHON'},\n",
       " {'Session': '2.7 PEP - O QUE SÃO E PRA QUE SERVEM',\n",
       "  'Chapter': 'CAPÍTULO 2 O QUE É PYTHON'},\n",
       " {'Session': '2.8 ONDE USAR E OBJETIVOS',\n",
       "  'Chapter': 'CAPÍTULO 2 O QUE É PYTHON'}]"
      ]
     },
     "execution_count": 9,
     "metadata": {},
     "output_type": "execute_result"
    }
   ],
   "source": [
    "metadatas[:10]"
   ]
  },
  {
   "cell_type": "code",
   "execution_count": 10,
   "metadata": {},
   "outputs": [
    {
     "data": {
      "text/plain": [
       "['1 COMO APRENDER PYTHON \\n1',\n",
       " 'Para tirar dúvidas de exercícios, ou de Python em geral, recomendamos o fórum do GUJ Respostas:\\nhttp://www.guj.com.br\\nLá sua dúvida será respondida prontamente. O GUJ foi fundado por desenvolvedores da Caelum e\\nhoje conta com mais de um milhão de mensagens.\\nO principal recurso oficial para encontrar documentação, tutoriais e até mesmo livros sobre Python é\\na Python Software Foundation (PSF):\\nhttps://www.python.org/\\nDestacamos também a página da comunidade no Brasil:\\nhttps://python.org.br/\\nHá também fóruns oficiais da comunidade:\\nhttps://python-forum.io/ (inglês)\\nhttps://python.org.br/lista-de-discussoes/ (português)\\nFora isso, sinta-se à vontade para entrar em contato com seu instrutor para tirar todas as dúvidas que\\nsurgirem durante o curso.\\nSe o que você está buscando são livros de apoio, sugerimos conhecer a editora Casa do Código:\\nhttps://www.casadocodigo.com.br/\\nHá também cursos online que vão ajudá-lo a ir além, com muita interação com os instrutores:\\nhttps://www.alura.com.br/\\n2',\n",
       " 'Python foi criada em 1990 por Guido Van Rossum no Centro de Matemática Stichting (CWI, veja\\nhttp://www.cwi.nl) na Holanda como uma sucessora da linguagem ABC. Guido é lembrado como o\\nprincipal autor de Python, mas outros programadores ajudaram com muitas contribuições.\\nA linguagem ABC foi desenhada para uso de não programadores, mas logo de início mostrou certas\\n2 O QUE É PYTHON \\n3',\n",
       " \"Você provavelmente já ouviu ou leu em algum lugar que Python é uma linguagem interpretada ou\\numa linguagem de script. Em certo sentido, também é verdade que Python é tanto uma linguagem\\ninterpretada quanto uma linguagem compilada. Um compilador traduz linguagem Python em linguagem\\nde máquina - código Python é traduzido em um código intermediário que deve ser executado por uma\\nmáquina virtual conhecida como PVM (Python Virtual Machine). É muito similar ao Java - há ainda um\\njeito de traduzir programas Python em bytecode Java para JVM (Java Virtual Machine) usando a\\nimplementação Jython.\\nO interpretador faz esta 'tradução' em tempo real para código de máquina, ou seja, em tempo de\\nexecução. Já o compilador traduz o programa inteiro em código de máquina de uma só vez e então o\\nexecuta, criando um arquivo que pode ser rodado (executável). O compilador gera um relatório de erros\\n(casos eles existam) e o interpretador interrompe a tradução quando encontra um primeiro erro.\\nEm geral, o tempo de execução de um código compilado é menor que um interpretado já que o\\ncompilado é inteiramente traduzido antes de sua execução. Enquanto o interpretado é traduzido\\ninstrução por instrução. Python é uma linguagem interpretada mas, assim como Java, passa por um\\nprocesso de compilação. Um código fonte Java é primeiramente compilado para um bytecode e depois\\n4\",\n",
       " 'Para quem está começando, a primeira dúvida na hora da instalação é qual versão do Python\\ndevemos baixar. Aqui, depende do que se deseja fazer. O Python3 ainda possui algumas desvantagens\\nem relação a versão 2, como o suporte de bibliotecas (que é mais reduzido) e pelo fato da maioria das\\ndistribuições Linux e o MacOS ainda utilizarem a versão 2 como padrão em seus sistemas. Porém, o\\nPython3 é mais maduro e mais recomendável para o uso.\\nExistem casos que exigem o Python2 ao invés do Python3 como implementar algo em um ambiente\\nque o programador não controla ou quando precisa utilizar algum pacote/módulo específico que não\\npossui versão compatível com Python3. Vale ressaltar para quem deseja utilizar uma implementação\\nalternativa do Python, como o IronPython ou Jython, que o suporte ao Python3 ainda é bastante\\nlimitado.\\nAtualmente existe a ferramenta 2to3 que permite que código Python3 seja gerado a partir de código\\nPython2. Há também a ferramenta 3to2, que visa converter o código Python3 de volta ao código\\nPython2. No entanto, é improvável que o código que faz uso intenso de recursos do Python3 seja\\nconvertido com sucesso. 5']"
      ]
     },
     "execution_count": 10,
     "metadata": {},
     "output_type": "execute_result"
    }
   ],
   "source": [
    "documents[:5]"
   ]
  },
  {
   "cell_type": "code",
   "execution_count": 11,
   "metadata": {},
   "outputs": [],
   "source": [
    "def get_collection(collection_name: str, embedding_function: OpenAIEmbeddingFunction) -> PersistentClient:\n",
    "    \"\"\"\n",
    "    Search for the collection based on its name. Creates if\n",
    "    it does not already exists.\n",
    "    \n",
    "    Parameters\n",
    "    ----------\n",
    "    collection_name : str\n",
    "        Name of the collection to be retrieved.\n",
    "    embedding_function : OpenAIEmbeddingFunction\n",
    "        Type of embedding to be used in the collection.\n",
    "        \n",
    "    Returns\n",
    "    -------\n",
    "    PersistentClient\n",
    "        Collection in persistent path\n",
    "    \"\"\"\n",
    "    \n",
    "    collection_path = os.getcwd().replace(\"notebooks\", \"db\")\n",
    "    client = chromadb.PersistentClient(path=collection_path)\n",
    "\n",
    "    try:\n",
    "        collection = client.get_collection(name=collection_name, embedding_function=embedding_function)\n",
    "        print(f\"Coleção {collection_name} recuperada com sucesso.\")\n",
    "        print(f\"Numero de documentos na coleção: {collection.count()}\")\n",
    "\n",
    "    except:\n",
    "        collection = client.create_collection(name=collection_name, embedding_function=embedding_function)\n",
    "        print(f\"Coleção {collection_name} criada com sucesso.\")\n",
    "        \n",
    "    return collection"
   ]
  },
  {
   "cell_type": "code",
   "execution_count": 12,
   "metadata": {},
   "outputs": [
    {
     "name": "stdout",
     "output_type": "stream",
     "text": [
      "Coleção apostila_python criada com sucesso.\n"
     ]
    }
   ],
   "source": [
    "collection = get_collection(collection_name=\"apostila_python\", embedding_function=embedding_function)"
   ]
  },
  {
   "cell_type": "code",
   "execution_count": 13,
   "metadata": {},
   "outputs": [],
   "source": [
    "def add_docs_to_collection(collection: PersistentClient, documents: list, metadatas: list, ids: list):\n",
    "    \"\"\"\n",
    "    Search for the collection based on its name.\n",
    "    \n",
    "    Parameters\n",
    "    ----------\n",
    "    collection : PersistentClient\n",
    "        Collection to add the files.\n",
    "    documents : list\n",
    "        List with the contents of the documents.\n",
    "    metadatas : list\n",
    "        List with the metadatas of the documents.\n",
    "    ids : list\n",
    "        List with unique ids of the documents.    \n",
    "        \n",
    "    Returns\n",
    "    -------\n",
    "    PersistentClient\n",
    "        Collection in persistent path\n",
    "    \"\"\"\n",
    "    \n",
    "    print(f\"Adding documents to collection {collection.name}\")\n",
    "    collection.add(documents=documents, metadatas=metadatas, ids=ids)\n",
    "    print(\"Process ended.\")"
   ]
  },
  {
   "cell_type": "code",
   "execution_count": 14,
   "metadata": {},
   "outputs": [
    {
     "name": "stdout",
     "output_type": "stream",
     "text": [
      "Adding documents to collection apostila_python\n",
      "Process ended.\n"
     ]
    }
   ],
   "source": [
    "add_docs_to_collection(collection=collection, documents=documents, metadatas=metadatas, ids=ids)"
   ]
  },
  {
   "cell_type": "code",
   "execution_count": 15,
   "metadata": {},
   "outputs": [
    {
     "name": "stdout",
     "output_type": "stream",
     "text": [
      "Número de documentos na coleção: 120\n"
     ]
    }
   ],
   "source": [
    "print(f\"Número de documentos na coleção: {collection.count()}\")"
   ]
  },
  {
   "cell_type": "code",
   "execution_count": 16,
   "metadata": {},
   "outputs": [],
   "source": [
    "def search_embeddings(collection: PersistentClient, query: str, filters: dict = {}, k: int = 10) -> tuple[list, list]:\n",
    "    \"\"\"\n",
    "    Retrive context for a given query.\n",
    "    \n",
    "    Parameters\n",
    "    ----------\n",
    "    collection : PersistentClient\n",
    "        Collection to retrive the documents.\n",
    "    query : str\n",
    "        Message from the user\n",
    "    filters : dict\n",
    "        Filters for the vector store, by default an\n",
    "        empty dictionary\n",
    "    k : int\n",
    "        Number of documents to retrieve, by default 20\n",
    "        \n",
    "    Returns\n",
    "    -------\n",
    "    tuple[list, list]\n",
    "        Retrived docs contents and metadatas\n",
    "    \"\"\"\n",
    "    \n",
    "    results = collection.query(\n",
    "        query_texts=[query],\n",
    "        n_results=k,\n",
    "        where=filters,\n",
    "    )\n",
    "    \n",
    "    contents = results[\"documents\"][0]\n",
    "    metadatas = results[\"metadatas\"][0]\n",
    "    \n",
    "    return contents, metadatas"
   ]
  },
  {
   "cell_type": "code",
   "execution_count": 17,
   "metadata": {},
   "outputs": [
    {
     "name": "stdout",
     "output_type": "stream",
     "text": [
      "Numero de documentos recebidos 10\n",
      "---------------------------------\n",
      "\n",
      "\n",
      "Primeiros cinco documentos:\n",
      "\n",
      "\n",
      "Capítulo: CAPÍTULO 1 COMO APRENDER PYTHON\n",
      "Seção: 1.2 SOBRE OS EXERCÍCIOS\n",
      "Seção: 1 COMO APRENDER PYTHON \n",
      "1\n",
      "Capítulo: CAPÍTULO 1 COMO APRENDER PYTHON\n",
      "Seção: 1.3 TIRANDO DÚVIDAS E INDO ALÉM\n",
      "Seção: Para tirar dúvidas de exercícios, ou de Python em geral, recomendamos o fórum do GUJ Respostas:\n",
      "http://www.guj.com.br\n",
      "Lá sua dúvida será respondida prontamente. O GUJ foi fundado por desenvolvedores da Caelum e\n",
      "hoje conta com mais de um milhão de mensagens.\n",
      "O principal recurso oficial para encontrar documentação, tutoriais e até mesmo livros sobre Python é\n",
      "a Python Software Foundation (PSF):\n",
      "https://www.python.org/\n",
      "Destacamos também a página da comunidade no Brasil:\n",
      "https://python.org.br/\n",
      "Há também fóruns oficiais da comunidade:\n",
      "https://python-forum.io/ (inglês)\n",
      "https://python.org.br/lista-de-discussoes/ (português)\n",
      "Fora isso, sinta-se à vontade para entrar em contato com seu instrutor para tirar todas as dúvidas que\n",
      "surgirem durante o curso.\n",
      "Se o que você está buscando são livros de apoio, sugerimos conhecer a editora Casa do Código:\n",
      "https://www.casadocodigo.com.br/\n",
      "Há também cursos online que vão ajudá-lo a ir além, com muita interação com os instrutores:\n",
      "https://www.alura.com.br/\n",
      "2\n",
      "Capítulo: CAPÍTULO 2 O QUE É PYTHON\n",
      "Seção: 2.9 PRIMEIRO PROGRAMA\n",
      "Seção: Vamos para nosso primeiro código! Um programa que imprime uma mensagem simples.\n",
      "Para mostrar uma mensagem específica, fazemos:\n",
      "    print('Minha primeira aplicação Python!')\n",
      "Certo, mas onde digitar esse comando? Como rodar uma instrução Python?\n",
      "2.10 MODO INTERATIVO\n",
      "Iremos, primeiro, aprender o modo interativo utilizando o terminal (Linux e MacOS) ou o prompt\n",
      "de comando (Windows) para rodar o programa acima. Abra o terminal e digite:\n",
      "    dev@caelum:~$ python3\n",
      "Isso vai abrir o modo interativo do Python na versão\n",
      "Capítulo: CAPÍTULO 2 O QUE É PYTHON\n",
      "Seção: 2.5 DOWNLOAD\n",
      "Seção: Como dito acima, o Python já vem instalado nos sistemas Linux e Mac OS, mas será necessário\n",
      "fazer o download da última versão (Python 3.6) para acompanhar a apostila. O Python não vem\n",
      "instalado por padrão no Windows e o download deverá ser feito no site https://www.python.org/ , além\n",
      "de algumas configurações extras (veja apêndice desta apostila sobre instalação).\n",
      "Capítulo: CAPÍTULO 2 O QUE É PYTHON\n",
      "Seção: 3.6 da linguagem, também chamado de console\n",
      "Seção: do Python. Após digitar este comando, as seguintes linhas irão aparecer no seu console:\n",
      "    Python 3.6.4 (default, Jan 28 2018, 00:00:00)\n",
      "    [GCC 4.8.4] on linux\n",
      "    Type \"help\", \"copyright\", \"credits\" or \"license\" for more information.\n",
      "    >>>\n",
      "A primeira linha indica que a versão utilizada do Python é a versão 3.6.4. A segunda indica o sistema\n",
      "operacional (no caso, o Linux). A terceira mostra algumas palavras chaves do interpretador para acessar\n",
      "algumas informações - digite alguma delas e aperte  \n",
      "ENTER \n",
      " para testar.\n",
      "O '>>>' indica que entramos no modo interativo do Python e basta começar a escrever os comandos.\n",
      "Vamos então escrever nosso primeiro programa Python:\n",
      "    >>> print('Minha primeira aplicação Python!')\n",
      "Ao apertar  \n",
      "ENTER \n",
      ", temos:\n",
      "    >>> print('Minha primeira aplicação Python!')\n",
      "    Minha primeira aplicação Python!\n",
      "O print() é uma função do Python utilizada para imprimir alguma mensagem na tela. Mais detalhes\n",
      "8\n"
     ]
    }
   ],
   "source": [
    "query = \"Como aprender Python?\"\n",
    "\n",
    "contents, metadatas = search_embeddings(collection=collection, query=query)\n",
    "print(f\"Numero de documentos recebidos {len(contents)}\\n---------------------------------\\n\\n\")\n",
    "print(f\"Primeiros cinco documentos:\\n\\n\")\n",
    "\n",
    "for i in range(5):\n",
    "    print(f\"Capítulo: {metadatas[i]['Chapter']}\")\n",
    "    print(f\"Seção: {metadatas[i]['Session']}\")\n",
    "    print(f\"Seção: {contents[i]}\")\n"
   ]
  }
 ],
 "metadata": {
  "kernelspec": {
   "display_name": "mybot",
   "language": "python",
   "name": "python3"
  },
  "language_info": {
   "codemirror_mode": {
    "name": "ipython",
    "version": 3
   },
   "file_extension": ".py",
   "mimetype": "text/x-python",
   "name": "python",
   "nbconvert_exporter": "python",
   "pygments_lexer": "ipython3",
   "version": "3.12.2"
  }
 },
 "nbformat": 4,
 "nbformat_minor": 2
}
